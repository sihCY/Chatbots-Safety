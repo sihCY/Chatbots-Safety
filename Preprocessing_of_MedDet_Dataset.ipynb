{
  "cells": [
    {
      "cell_type": "markdown",
      "metadata": {
        "id": "er4O-aYwTkE1"
      },
      "source": [
        "# Parameters"
      ]
    },
    {
      "cell_type": "code",
      "execution_count": null,
      "metadata": {
        "id": "7YzomT7sTPPh"
      },
      "outputs": [],
      "source": [
        "raw_data_path = '/content/drive/My Drive/Sihem/BERT_Classifier/Data/data.csv'\n",
        "destination_folder = '/content/drive/My Drive/Sihem/BERT_Classifier/Data'\n",
        "\n",
        "train_test_ratio = 0.20\n",
        "train_valid_ratio = 0.80\n",
        "\n",
        "first_n_words = 200"
      ]
    },
    {
      "cell_type": "markdown",
      "metadata": {
        "id": "SSbCqzcDWn-4"
      },
      "source": [
        "# Libraries"
      ]
    },
    {
      "cell_type": "code",
      "execution_count": null,
      "metadata": {
        "id": "O-muOECSWrOt"
      },
      "outputs": [],
      "source": [
        "import pandas as pd\n",
        "from sklearn.model_selection import train_test_split"
      ]
    },
    {
      "cell_type": "markdown",
      "metadata": {
        "id": "bNfpHFEPUcyE"
      },
      "source": [
        "# Preprocessing"
      ]
    },
    {
      "cell_type": "code",
      "execution_count": null,
      "metadata": {
        "id": "oOxjGn9aki-c"
      },
      "outputs": [],
      "source": [
        "def trim_string(x):\n",
        "\n",
        "    x = x.split(maxsplit=first_n_words)\n",
        "    x = ' '.join(x[:first_n_words])\n",
        "\n",
        "    return x"
      ]
    },
    {
      "cell_type": "code",
      "execution_count": null,
      "metadata": {
        "colab": {
          "base_uri": "https://localhost:8080/"
        },
        "id": "MWKYgA0NuZSH",
        "outputId": "b20b24d4-df49-4f53-9b34-2b93309f6cb1"
      },
      "outputs": [],
      "source": [
        "# Mount Google Drive to this Notebook instance.\n",
        "from google.colab import drive\n",
        "drive.mount('/content/drive')"
      ]
    },
    {
      "cell_type": "code",
      "execution_count": null,
      "metadata": {
        "id": "Tl4_dITCUk83"
      },
      "outputs": [],
      "source": [
        "# Read raw data\n",
        "df_raw = pd.read_csv(raw_data_path)\n",
        "df_raw = df_raw.dropna()\n",
        "\n",
        "\n",
        "# Prepare columns\n",
        "#df_raw['label'] = (df_raw['label'] == 'FAKE').astype('int')\n",
        "#df_raw['titletext'] = df_raw['title'] + \". \" + df_raw['text']\n",
        "#df_raw = df_raw.reindex(columns=['label', 'title', 'text', 'titletext'])\n",
        "\n",
        "# Drop rows with empty text\n",
        "#df_raw.drop( df_raw[df_raw.text.str.len() < 5].index, inplace=True)\n",
        "\n",
        "# Trim text and titletext to first_n_words\n",
        "df_raw['text'] = df_raw['text'].apply(trim_string)\n",
        "#df_raw['titletext'] = df_raw['titletext'].apply(trim_string)\n",
        "\n",
        "# Split according to label\n",
        "df_non_medical = df_raw[df_raw['label'] == 0]\n",
        "df_medical = df_raw[df_raw['label'] == 1]\n",
        "\n",
        "# Train-test split\n",
        "df_non_medical_full_train, df_non_medical_test = train_test_split(df_non_medical, test_size = train_test_ratio, random_state = 1)\n",
        "df_medical_full_train, df_medical_test = train_test_split(df_medical, test_size = train_test_ratio, random_state = 1)\n",
        "\n",
        "# Train-valid split\n",
        "df_non_medical_train, df_non_medical_valid = train_test_split(df_non_medical_full_train, train_size = train_valid_ratio, random_state = 1)\n",
        "df_medical_train, df_medical_valid = train_test_split(df_medical_full_train, train_size = train_valid_ratio, random_state = 1)\n",
        "\n",
        "# Concatenate splits of different labels\n",
        "df_train = pd.concat([df_non_medical_train, df_medical_train], ignore_index=True, sort=False)\n",
        "df_valid = pd.concat([df_non_medical_valid, df_medical_valid], ignore_index=True, sort=False)\n",
        "df_test = pd.concat([df_non_medical_test, df_medical_test], ignore_index=True, sort=False)\n",
        "\n",
        "# Write preprocessed data\n",
        "df_train.to_csv(destination_folder + '/train.csv', index=False)\n",
        "df_valid.to_csv(destination_folder + '/valid.csv', index=False)\n",
        "df_test.to_csv(destination_folder + '/test.csv', index=False)"
      ]
    },
    {
      "cell_type": "code",
      "execution_count": null,
      "metadata": {
        "colab": {
          "base_uri": "https://localhost:8080/"
        },
        "id": "2_HRD0JMjb9a",
        "outputId": "f64f7628-a265-4632-f8af-83566787c56f"
      },
      "outputs": [],
      "source": [
        "print(len(df_train))\n",
        "print(len(df_valid))\n",
        "print(len(df_test))"
      ]
    }
  ],
  "metadata": {
    "colab": {
      "provenance": []
    },
    "kernelspec": {
      "display_name": "Python 3",
      "name": "python3"
    }
  },
  "nbformat": 4,
  "nbformat_minor": 0
}
